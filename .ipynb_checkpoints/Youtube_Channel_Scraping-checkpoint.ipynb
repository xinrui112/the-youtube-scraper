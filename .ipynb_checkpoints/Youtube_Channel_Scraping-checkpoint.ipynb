{
 "cells": [
  {
   "cell_type": "code",
   "execution_count": 3,
   "metadata": {},
   "outputs": [],
   "source": [
    "import numpy as np\n",
    "import pandas as pd\n",
    "import sys\n",
    "import yapi\n",
    "import xml.etree.ElementTree as ET"
   ]
  },
  {
   "cell_type": "code",
   "execution_count": 9,
   "metadata": {},
   "outputs": [
    {
     "ename": "IndentationError",
     "evalue": "unexpected indent (<ipython-input-9-021599da95ad>, line 29)",
     "output_type": "error",
     "traceback": [
      "\u001b[0;36m  File \u001b[0;32m\"<ipython-input-9-021599da95ad>\"\u001b[0;36m, line \u001b[0;32m29\u001b[0m\n\u001b[0;31m    with open(str(channel_id) + '.json', 'w') as fp:\u001b[0m\n\u001b[0m    ^\u001b[0m\n\u001b[0;31mIndentationError\u001b[0m\u001b[0;31m:\u001b[0m unexpected indent\n"
     ]
    }
   ],
   "source": [
    "def authenticate(api_key):\n",
    "    api = yapi.YoutubeAPI(api_key)\n",
    "    return api\n",
    "\n",
    "def channel_data(api, channel_id):\n",
    "    # channel details\n",
    "    channel_details = api.get_channel_by_id(channel_id)\n",
    "\n",
    "    if len(channel_details.items) > 0:\n",
    "        country = None\n",
    "        if 'country' in channel_details.items[0].snippet:\n",
    "            country = channel_details.items[0].snippet.country\n",
    "\n",
    "    # Parse channel in details\n",
    "    yt_channel_dict = {\n",
    "            'channel_id': channel_id,\n",
    "            'comment_count': int(channel_details.items[0].statistics.commentCount),\n",
    "            'hiddenSubscriberCount': int(channel_details.items[0].statistics.hiddenSubscriberCount),\n",
    "            'subscriberCount': int(channel_details.items[0].statistics.subscriberCount),\n",
    "            'videoCount': int(channel_details.items[0].statistics.videoCount),\n",
    "            'viewCount': int(channel_details.items[0].statistics.viewCount),\n",
    "            'country': country,\n",
    "            'description': channel_details.items[0].snippet.description,\n",
    "            'title': channel_details.items[0].snippet.title,\n",
    "            'publishedAt': channel_details.items[0].snippet.publishedAt,\n",
    "            'kind': channel_details.items[0].kind,\n",
    "            'etag': str(channel_details.items[0].etag)\n",
    "        }\n",
    "        with open(str(channel_id) + '.json', 'w') as fp:\n",
    "            json.dump(yt_channel_dict, fp)\n",
    "\n",
    "if __name__ == '__main__':\n",
    "    api_key = '<API_KEY>'\n",
    "    api = authenticate(api_key)\n",
    "\n",
    "    with open('channel_names.txt', 'r') as fr:\n",
    "        content = fr.read().split('\\n')\n",
    "        for vals in content:\n",
    "            print(vals)\n",
    "            channel_data(api, vals)"
   ]
  },
  {
   "cell_type": "code",
   "execution_count": null,
   "metadata": {},
   "outputs": [],
   "source": []
  }
 ],
 "metadata": {
  "kernelspec": {
   "display_name": "Python 3",
   "language": "python",
   "name": "python3"
  },
  "language_info": {
   "codemirror_mode": {
    "name": "ipython",
    "version": 3
   },
   "file_extension": ".py",
   "mimetype": "text/x-python",
   "name": "python",
   "nbconvert_exporter": "python",
   "pygments_lexer": "ipython3",
   "version": "3.8.5"
  }
 },
 "nbformat": 4,
 "nbformat_minor": 4
}
